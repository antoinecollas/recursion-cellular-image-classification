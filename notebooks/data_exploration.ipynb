{
 "cells": [
  {
   "cell_type": "code",
   "execution_count": null,
   "metadata": {},
   "outputs": [],
   "source": [
    "import os\n",
    "import pandas as pd\n",
    "from tqdm import tqdm"
   ]
  },
  {
   "cell_type": "markdown",
   "metadata": {},
   "source": [
    "# Load data"
   ]
  },
  {
   "cell_type": "code",
   "execution_count": null,
   "metadata": {},
   "outputs": [],
   "source": [
    "PATH_DATA = '../data'\n",
    "PATH_METADATA = os.path.join(PATH_DATA, 'full_metadata')"
   ]
  },
  {
   "cell_type": "code",
   "execution_count": null,
   "metadata": {},
   "outputs": [],
   "source": [
    "df_train = pd.read_csv(PATH_METADATA+'/train.csv')\n",
    "df_test = pd.read_csv(PATH_METADATA+'/test.csv')"
   ]
  },
  {
   "cell_type": "code",
   "execution_count": null,
   "metadata": {},
   "outputs": [],
   "source": [
    "df_train.head()\n",
    "# id_code: celltype-batch_plate_well"
   ]
  },
  {
   "cell_type": "code",
   "execution_count": null,
   "metadata": {},
   "outputs": [],
   "source": [
    "df_train['experiment'].unique()"
   ]
  },
  {
   "cell_type": "code",
   "execution_count": null,
   "metadata": {},
   "outputs": [],
   "source": [
    "df_test['experiment'].unique()"
   ]
  },
  {
   "cell_type": "code",
   "execution_count": null,
   "metadata": {},
   "outputs": [],
   "source": [
    "df_test.head()"
   ]
  },
  {
   "cell_type": "markdown",
   "metadata": {},
   "source": [
    "# Cells types in training and test sets"
   ]
  },
  {
   "cell_type": "code",
   "execution_count": null,
   "metadata": {},
   "outputs": [],
   "source": [
    "def get_celltype(experiment):\n",
    "    return experiment.split('-')[0]\n",
    "df_train['celltype'] = df_train['experiment'].apply(get_celltype)\n",
    "df_test['celltype'] = df_test['experiment'].apply(get_celltype)"
   ]
  },
  {
   "cell_type": "code",
   "execution_count": null,
   "metadata": {},
   "outputs": [],
   "source": [
    "df_train['celltype'].unique(), df_test['celltype'].unique()"
   ]
  },
  {
   "cell_type": "code",
   "execution_count": null,
   "metadata": {},
   "outputs": [],
   "source": [
    "nb_train = df_train['celltype'].count()\n",
    "nb_test = df_test['celltype'].count()\n",
    "(nb_train, nb_test)"
   ]
  },
  {
   "cell_type": "code",
   "execution_count": null,
   "metadata": {},
   "outputs": [],
   "source": [
    "sum(df_train['celltype']=='HUVEC')/nb_train, sum(df_test['celltype']=='HUVEC')/nb_test"
   ]
  },
  {
   "cell_type": "code",
   "execution_count": null,
   "metadata": {},
   "outputs": [],
   "source": [
    "sum(df_train['celltype']=='RPE')/nb_train, sum(df_test['celltype']=='RPE')/nb_test"
   ]
  },
  {
   "cell_type": "code",
   "execution_count": null,
   "metadata": {},
   "outputs": [],
   "source": [
    "sum(df_train['celltype']=='HEPG2')/nb_train, sum(df_test['celltype']=='HEPG2')/nb_test"
   ]
  },
  {
   "cell_type": "code",
   "execution_count": null,
   "metadata": {},
   "outputs": [],
   "source": [
    "sum(df_train['celltype']=='U2OS')/nb_train, sum(df_test['celltype']=='U2OS')/nb_test"
   ]
  },
  {
   "cell_type": "markdown",
   "metadata": {},
   "source": [
    "# Controls"
   ]
  },
  {
   "cell_type": "markdown",
   "metadata": {},
   "source": [
    "# Negative controls"
   ]
  },
  {
   "cell_type": "code",
   "execution_count": null,
   "metadata": {},
   "outputs": [],
   "source": [
    "df_controls = pd.read_csv(PATH_METADATA+'/train_controls.csv')\n",
    "print(len(df_controls))\n",
    "df_controls.head()"
   ]
  },
  {
   "cell_type": "markdown",
   "metadata": {},
   "source": [
    "Looking for the negative control of each plate:"
   ]
  },
  {
   "cell_type": "code",
   "execution_count": null,
   "metadata": {},
   "outputs": [],
   "source": [
    "nb_negative_controls = []\n",
    "for index, row in tqdm(df_train.iterrows()):\n",
    "    mask = (df_controls['experiment']==row['experiment']) & \\\n",
    "        (df_controls['plate']==row['plate']) & \\\n",
    "        (df_controls['well_type']=='negative_control')\n",
    "    negative_controls = df_controls[mask]\n",
    "    nb_negative_controls.append(len(negative_controls))"
   ]
  },
  {
   "cell_type": "code",
   "execution_count": null,
   "metadata": {},
   "outputs": [],
   "source": [
    "sum(nb_negative_controls)/len(nb_negative_controls), min(nb_negative_controls), max(nb_negative_controls)"
   ]
  },
  {
   "cell_type": "code",
   "execution_count": null,
   "metadata": {},
   "outputs": [],
   "source": [
    "nb_negative_controls = []\n",
    "for index, row in tqdm(df_train.iterrows()):\n",
    "    mask = (df_controls['experiment']==row['experiment']) & \\\n",
    "        (df_controls['plate']==row['plate']) & \\\n",
    "        (df_controls['well_type']=='negative_control') & \\\n",
    "        (df_controls['well']=='B02')\n",
    "    negative_controls = df_controls[mask]\n",
    "    nb_negative_controls.append(len(negative_controls))"
   ]
  },
  {
   "cell_type": "code",
   "execution_count": null,
   "metadata": {},
   "outputs": [],
   "source": [
    "sum(nb_negative_controls)/len(nb_negative_controls), min(nb_negative_controls), max(nb_negative_controls)"
   ]
  },
  {
   "cell_type": "markdown",
   "metadata": {},
   "source": [
    "# Positive controls"
   ]
  },
  {
   "cell_type": "code",
   "execution_count": null,
   "metadata": {},
   "outputs": [],
   "source": [
    "nb_positive_controls = []\n",
    "for index, row in tqdm(df_train.iterrows()):\n",
    "    mask = (df_controls['experiment']==row['experiment']) & \\\n",
    "        (df_controls['plate']==row['plate']) & \\\n",
    "        (df_controls['well_type']=='positive_control')\n",
    "    positive_controls = df_controls[mask]\n",
    "    nb_positive_controls.append(len(positive_controls))"
   ]
  },
  {
   "cell_type": "code",
   "execution_count": null,
   "metadata": {},
   "outputs": [],
   "source": [
    "sum(nb_positive_controls)/len(nb_positive_controls), min(nb_positive_controls), max(nb_positive_controls)"
   ]
  },
  {
   "cell_type": "code",
   "execution_count": null,
   "metadata": {},
   "outputs": [],
   "source": [
    "df_controls[df_controls['well_type']=='positive_control']"
   ]
  },
  {
   "cell_type": "code",
   "execution_count": null,
   "metadata": {},
   "outputs": [],
   "source": []
  }
 ],
 "metadata": {
  "kernelspec": {
   "display_name": "Python 3",
   "language": "python",
   "name": "python3"
  },
  "language_info": {
   "codemirror_mode": {
    "name": "ipython",
    "version": 3
   },
   "file_extension": ".py",
   "mimetype": "text/x-python",
   "name": "python",
   "nbconvert_exporter": "python",
   "pygments_lexer": "ipython3",
   "version": "3.6.5"
  }
 },
 "nbformat": 4,
 "nbformat_minor": 2
}
